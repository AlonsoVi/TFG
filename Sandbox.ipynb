{
 "cells": [
  {
   "cell_type": "code",
   "execution_count": 16,
   "metadata": {},
   "outputs": [],
   "source": [
    "import layoutparser as lp\n",
    "from sklearn.metrics import precision_score\n",
    "import cv2 #opencv-python-headless             4.5.4.58/ ahora opencv-python                      4.5.5.62\n",
    "import pytesseract\n",
    "#import easyocr\n",
    "import numpy as np\n",
    "import matplotlib.pyplot as plt\n",
    "import time\n",
    "import keyboard\n",
    "from pytesseract import Output"
   ]
  },
  {
   "cell_type": "code",
   "execution_count": 11,
   "metadata": {},
   "outputs": [],
   "source": [
    "pytesseract.pytesseract.tesseract_cmd = r'D:\\Program Files\\Tesseract-OCR\\tesseract.exe'\n",
    "custom_config = r'--oem 3 --psm 1 -l spa'"
   ]
  },
  {
   "cell_type": "code",
   "execution_count": 14,
   "metadata": {},
   "outputs": [],
   "source": [
    "# get grayscale image\n",
    "def get_grayscale(image):\n",
    "    return cv2.cvtColor(image, cv2.COLOR_BGR2GRAY)\n",
    "\n",
    "# noise removal\n",
    "def remove_noise(image):\n",
    "    return cv2.medianBlur(image,5)\n",
    " \n",
    "#thresholding\n",
    "def thresholding(img):\n",
    "    return cv2.adaptiveThreshold(img,255,cv2.ADAPTIVE_THRESH_GAUSSIAN_C,\\\n",
    "            cv2.THRESH_BINARY,11,2)\n",
    "\n",
    "#dilation\n",
    "def dilate(image):\n",
    "    kernel = np.ones((25,25),np.uint8)\n",
    "    return cv2.dilate(image, kernel, iterations = 1)\n",
    "    \n",
    "#erosion\n",
    "def erode(image):\n",
    "    kernel = np.ones((25,25),np.uint8)\n",
    "    return cv2.erode(image, kernel, iterations = 2)\n",
    "\n",
    "#opening - erosion followed by dilation\n",
    "def opening(image):\n",
    "    kernel = np.ones((25,25),np.uint8)\n",
    "    return cv2.morphologyEx(image, cv2.MORPH_OPEN, kernel)\n",
    "\n",
    "#canny edge detection\n",
    "def canny(image):\n",
    "    return cv2.Canny(image, 100, 200)\n",
    "\n",
    "#skew correction\n",
    "def deskew(image):\n",
    "    coords = np.column_stack(np.where(image > 0))\n",
    "    angle = cv2.minAreaRect(coords)[-1]\n",
    "    if angle < -45:\n",
    "        angle = -(90 + angle)\n",
    "    else:\n",
    "        angle = -angle\n",
    "    (h, w) = image.shape[:2]\n",
    "    center = (w // 2, h // 2)\n",
    "    M = cv2.getRotationMatrix2D(center, angle, 1.0)\n",
    "    rotated = cv2.warpAffine(image, M, (w, h), flags=cv2.INTER_CUBIC, borderMode=cv2.BORDER_REPLICATE)\n",
    "    return rotated\n",
    "\n",
    "#template matching\n",
    "def match_template(image, template):\n",
    "    return cv2.matchTemplate(image, template, cv2.TM_CCOEFF_NORMED)\n",
    "\n",
    "def leertxt(archivotxt):\n",
    "    content = open(\"004.txt\", \"r\", encoding='utf-8').read()\n",
    "    lecturatxt = re.split('\\s|\\n',content)\n",
    "    try:\n",
    "        while True:\n",
    "            lecturatxt.remove('')\n",
    "    except ValueError:\n",
    "        pass\n",
    "    return lecturatxt\n",
    "\n",
    "def listafiltrada(archivoimagen):\n",
    "    img = cv2.imread(archivoimagen)\n",
    "    text = pytesseract.image_to_data(img, config=custom_config, output_type=Output.DATAFRAME).dropna()\n",
    "    #text['text'] = text['text'].lower()\n",
    "    list = text[\"text\"].tolist()\n",
    "    try:\n",
    "        while True:\n",
    "            list.remove('')\n",
    "    except ValueError:\n",
    "        pass\n",
    "    try:\n",
    "        while True:\n",
    "            list.remove(' ')\n",
    "    except ValueError:\n",
    "        pass\n",
    "    list.pop(-1)\n",
    "    filterlist = []\n",
    "    skip = []\n",
    "    for i in range(len(list)):\n",
    "        if i in skip:\n",
    "            continue\n",
    "        if list[i].find(\"-\")!=-1:\n",
    "            if i+1>=len(list): #por si es la última palabra de la lista\n",
    "                break\n",
    "            else:\n",
    "                filterlist.append(list[i].replace('-', '')+list[i+1])\n",
    "                skip.append(i+1)\n",
    "        else:\n",
    "            filterlist.append(list[i])\n",
    "    return filterlist"
   ]
  },
  {
   "cell_type": "code",
   "execution_count": 4,
   "metadata": {},
   "outputs": [
    {
     "name": "stdout",
     "output_type": "stream",
     "text": [
      "Finished in 1.24 second(s)\n"
     ]
    }
   ],
   "source": [
    "start = time.perf_counter()\n",
    "img = cv2.imread(\"PruebaOrganica.png\", 0)\n",
    "eroded = erode(img)\n",
    "dilated = dilate(eroded)\n",
    "thresholded = cv2.threshold(dilated, 150, 255, cv2.THRESH_BINARY_INV)[1]\n",
    "countours = cv2.findContours(thresholded, cv2.RETR_TREE, cv2.CHAIN_APPROX_SIMPLE)[0]\n",
    "if len(countours) == 2:\n",
    "    x, y, w, h = cv2.boundingRect(countours[0])\n",
    "    crop = img[y:h + y, x:w + x]\n",
    "    text = pytesseract.image_to_string(crop)\n",
    "end = time.perf_counter()\n",
    "print(f'Finished in {round(end-start, 2)} second(s)')"
   ]
  },
  {
   "cell_type": "code",
   "execution_count": 5,
   "metadata": {},
   "outputs": [
    {
     "name": "stdout",
     "output_type": "stream",
     "text": [
      "Product : Perpetual 25-3E Calendar\n",
      "Manufacturer : Op der Millen -27, avenue Guillaume Moreau - 1050 Bruxelles (Belgium)\n",
      "Designer : Jean Keup\n",
      "\n",
      "Description: This cilendat- designed and created in an old mill of Luxembourg Province -\n",
      "is exported throughout the world. This collection - called after its creators : Op der Millen\n",
      "is one example of highly elaborate Belgian design\n",
      "Material: Pastified cardboard printed in 5 colors and in five languages per calenda\n",
      "Dimensions : Diameter 40 em x 3\n",
      "Packing: Individual cardboard case\n",
      "Price per item (Including gift wrapping, with the mention “presented by.\n",
      "‘export duties from Belgium).\n",
      "Minimum order : $00 units.\n",
      "\n",
      "For 500: 83 Bel. Fr.\n",
      "\n",
      "For 1000 and more : 78 Bel. Fr.\n",
      "Delivery delays: 6 to 8 weeks.\n",
      "\n",
      " \n",
      "\n",
      " \n",
      "\n",
      "and\n",
      "\n",
      "Design Conte. Tel 11 9341. ~ 1000- Bruxelles\n",
      "Galerie Ravenstein Galeri) $1 ~ 1000 - Brussel\n",
      "\f",
      "\n"
     ]
    }
   ],
   "source": [
    "print(text)"
   ]
  },
  {
   "cell_type": "code",
   "execution_count": 85,
   "metadata": {},
   "outputs": [
    {
     "name": "stdout",
     "output_type": "stream",
     "text": [
      "Sleeping for 1 second(s)\n",
      "Done sleeping\n",
      "You pressed enter try again!\n",
      "Sleeping for 1 second(s)\n",
      "Done sleeping\n",
      "You pressed enter try again!\n",
      "Sleeping for 1 second(s)\n",
      "Done sleeping\n",
      "You pressed p\n"
     ]
    }
   ],
   "source": [
    "i = 0\n",
    "while True:\n",
    "    i += 1\n",
    "    print(i)\n",
    "    time.sleep(1)\n",
    "    if keyboard.is_pressed(\"q\"):\n",
    "        print(\"q pressed, ending loop\")\n",
    "        break"
   ]
  },
  {
   "cell_type": "code",
   "execution_count": 36,
   "metadata": {},
   "outputs": [
    {
     "name": "stdout",
     "output_type": "stream",
     "text": [
      "['-1', '-1', '-1', '-1', '95.000000', '-1', '-1', '-1', '91.862839', '91.862839', '93.304703', '67.582245', '96.060577', '-1', '78.470871', '89.527863', '96.873306', '96.284996', '92.663857', '80.491806', '96.629425', '96.033119', '92.834129', '81.598137', '96.557480', '96.204376', '87.936600', '-1', '94.393997', '63.474052', '63.474052', '91.896103', '-1', '-1', '-1', '58.106236', '93.026604', '39.369675', '73.345490', '89.393974', '89.393974', '96.172005', '96.172005', '96.035423', '96.035423', '95.432465', '94.322678', '93.235649', '78.921066', '-1', '94.231918', '96.371834', '96.667221', '96.983261', '83.857056', '96.781647', '72.711899', '80.825546', '80.689140', '60.608105', '60.608105', '62.495152', '91.890694', '96.862518', '96.584747', '95.429565', '-1', '61.036530', '96.615250', '96.503815', '95.005211', '93.825493', '96.387802', '95.997482', '84.558289', '-1', '64.262985', '35.535019', '90.794708', '96.953262', '93.288925', '43.193939', '96.688728', '83.896217', '83.896217', '78.001404', '78.001404', '96.511047', '68.460403', '-1', '83.208321', '93.017647', '71.037964', '71.037964', '70.961899', '70.961899', '-1', '84.642136', '96.638145', '93.497314', '87.099670', '-1', '96.422928', '60.575203', '60.575203', '88.647125', '88.647125', '96.681862', '96.922569', '96.922569', '96.225731', '86.316452', '96.224480', '-1', '81.787849', '78.732071', '92.537155', '80.838013', '-1', '94.514175', '87.591225', '87.591225', '89.273521', '93.971558', '-1', '68.882088', '83.426109', '79.240494', '79.240494', '71.412735', '71.412735', '-1', '-1', '96.150749', '92.859146', '96.532539', '93.270584', '87.203979', '95.367119', '75.263306', '75.263306', '-1', '-1', '94.459770', '68.752579', '91.145798', '95.651642', '95.069504', '86.017975', '-1', '-1', '-1', '95.000000', '-1', '-1', '-1', '42.072083', '96.326309', '-1', '-1', '-1', '95.000000', '-1', '-1', '-1', '95.000000', '-1', '-1', '-1', '93.216736', '56.715286', '75.593552', '75.593552', '69.878555', '50.542976', '66.800293', '74.851189', '-1', '15.421738', '82.213432', '32.690895', '59.304520', '63.516373', '52.983326', '52.983326', '72.346245']\n"
     ]
    }
   ],
   "source": [
    "img = cv2.imread(\"PruebaOrganica.png\", 0) #GrayScale Directamente con el 0\n",
    "#img = thresholding(img)\n",
    "details = pytesseract.image_to_data(img, output_type=Output.DICT, config=custom_config)\n",
    "total_boxes = len(details['text'])\n",
    "for sequence_number in range(total_boxes):\n",
    "    if int(float(details['conf'][sequence_number])) >30:\n",
    "        (x, y, w, h) = (details['left'][sequence_number], details['top'][sequence_number], details['width'][sequence_number],  details['height'][sequence_number])\n",
    "        img = cv2.rectangle(img, (x, y), (x + w, y + h), (0, 255, 0), 2)\n",
    "cv2.imshow('img',img)\n",
    "cv2.waitKey(0)\n",
    "cv2.destroyAllWindows()"
   ]
  },
  {
   "cell_type": "code",
   "execution_count": 39,
   "metadata": {},
   "outputs": [
    {
     "name": "stdout",
     "output_type": "stream",
     "text": [
      " \n",
      "\n",
      "Product : Perpetual 25-3E Calendar\n",
      "Manufacturer : Op der Millen -27, avenue Guillaume Moreau - 1050 Bruxelles (Belgium)\n",
      "Designer : Jean Keup\n",
      "\n",
      "Description: This cdlendar- designed and created in an old mill of Luxembourg Province -\n",
      "is exported throughout the world. This collection - called after its creators : Op der Millen\n",
      "is one example of highly elaborate Belgian design\n",
      "Material: Plastified cardboard printed in S colors and in five languages per calendar.\n",
      "Dimensions: Diameter 40 em x 3\n",
      "Packing: Individual cardboard case\n",
      "Price per item (Including gift wrapping, with the mention “presented by.\n",
      "‘export duties from Belgium).\n",
      "Minimum order : $00 units.\n",
      "‘or 500 : 83 Bel. Fr\n",
      "\n",
      "For 1000 and more : 78 Bel. Fi\n",
      "\n",
      "Delivery delays: 6 to 8 weeks.\n",
      "\n",
      " \n",
      "\n",
      "”, and\n",
      "\n",
      " \n",
      "\n",
      " \n",
      "\n",
      "Design Conte. Tel 11 9341. ~ 1000- Bruxelles\n",
      "Galerie Ravenstein Galeri) $1 ~ 1000 - Brussel\n",
      "\f",
      "\n"
     ]
    }
   ],
   "source": [
    "img = cv2.imread(\"PruebaOrganica.png\", 0)\n",
    "text = pytesseract.image_to_string(img)\n",
    "print(text)"
   ]
  },
  {
   "cell_type": "code",
   "execution_count": 14,
   "metadata": {},
   "outputs": [],
   "source": [
    "def getSkewAngle(cvImage):\n",
    "    newImage = cvImage.copy()\n",
    "    gray = cv2.cvtColor(newImage, cv2.COLOR_BGR2GRAY)\n",
    "    blur = cv2.GaussianBlur(gray, (9, 9), 0)\n",
    "    thresh = cv2.threshold(blur, 0, 255, cv2.THRESH_BINARY_INV + cv2.THRESH_OTSU)[1]\n",
    "\n",
    "    # Apply dilate to merge text into meaningful lines/paragraphs.\n",
    "    # Use larger kernel on X axis to merge characters into single line, cancelling out any spaces.\n",
    "    # But use smaller kernel on Y axis to separate between different blocks of text\n",
    "    kernel = cv2.getStructuringElement(cv2.MORPH_RECT, (30, 5))\n",
    "    dilate = cv2.dilate(thresh, kernel, iterations=5)\n",
    "\n",
    "    # Find all contours\n",
    "    contours, hierarchy = cv2.findContours(dilate, cv2.RETR_LIST, cv2.CHAIN_APPROX_SIMPLE)\n",
    "    contours = sorted(contours, key = cv2.contourArea, reverse = True)\n",
    "\n",
    "    # Find largest contour and surround in min area box\n",
    "    largestContour = contours[0]\n",
    "    minAreaRect = cv2.minAreaRect(largestContour)\n",
    "\n",
    "    # Determine the angle. Convert it to the value that was originally used to obtain skewed image\n",
    "    angle = minAreaRect[-1]\n",
    "    if angle < -45:\n",
    "        angle = 90. + angle\n",
    "    return -1 * angle + 90"
   ]
  },
  {
   "cell_type": "code",
   "execution_count": 15,
   "metadata": {},
   "outputs": [],
   "source": [
    "# Rotate the image around its center\n",
    "def rotateImage(cvImage, angle):\n",
    "    newImage = cvImage.copy()\n",
    "    (h, w) = newImage.shape[:2]\n",
    "    center = (w // 2, h // 2)\n",
    "    M = cv2.getRotationMatrix2D(center, angle, 1.0)\n",
    "    newImage = cv2.warpAffine(newImage, M, (w, h), flags=cv2.INTER_CUBIC, borderMode=cv2.BORDER_REPLICATE)\n",
    "    return newImage\n",
    "\n",
    "# Deskew image\n",
    "def deskew(cvImage):\n",
    "    angle = getSkewAngle(cvImage)\n",
    "    return rotateImage(cvImage, -1.0 * angle)"
   ]
  },
  {
   "cell_type": "code",
   "execution_count": 25,
   "metadata": {},
   "outputs": [
    {
     "ename": "error",
     "evalue": "OpenCV(4.5.5) d:\\a\\opencv-python\\opencv-python\\opencv\\modules\\imgproc\\src\\color.simd_helpers.hpp:92: error: (-2:Unspecified error) in function '__cdecl cv::impl::`anonymous-namespace'::CvtHelper<struct cv::impl::`anonymous namespace'::Set<3,4,-1>,struct cv::impl::A0xa96199bf::Set<1,-1,-1>,struct cv::impl::A0xa96199bf::Set<0,2,5>,2>::CvtHelper(const class cv::_InputArray &,const class cv::_OutputArray &,int)'\n> Invalid number of channels in input image:\n>     'VScn::contains(scn)'\n> where\n>     'scn' is 1\n",
     "output_type": "error",
     "traceback": [
      "\u001b[1;31m---------------------------------------------------------------------------\u001b[0m",
      "\u001b[1;31merror\u001b[0m                                     Traceback (most recent call last)",
      "\u001b[1;32m<ipython-input-25-f227b80e8366>\u001b[0m in \u001b[0;36m<module>\u001b[1;34m\u001b[0m\n\u001b[0;32m      1\u001b[0m \u001b[0mimg\u001b[0m \u001b[1;33m=\u001b[0m \u001b[0mcv2\u001b[0m\u001b[1;33m.\u001b[0m\u001b[0mimread\u001b[0m\u001b[1;33m(\u001b[0m\u001b[1;34m'QuixoteRot.png'\u001b[0m\u001b[1;33m,\u001b[0m \u001b[1;36m0\u001b[0m\u001b[1;33m)\u001b[0m\u001b[1;33m\u001b[0m\u001b[1;33m\u001b[0m\u001b[0m\n\u001b[1;32m----> 2\u001b[1;33m \u001b[0mimg2\u001b[0m \u001b[1;33m=\u001b[0m \u001b[0mdeskew\u001b[0m\u001b[1;33m(\u001b[0m\u001b[0mimg\u001b[0m\u001b[1;33m)\u001b[0m\u001b[1;33m\u001b[0m\u001b[1;33m\u001b[0m\u001b[0m\n\u001b[0m\u001b[0;32m      3\u001b[0m \u001b[0mplt\u001b[0m\u001b[1;33m.\u001b[0m\u001b[0mimshow\u001b[0m\u001b[1;33m(\u001b[0m\u001b[0mimg2\u001b[0m\u001b[1;33m)\u001b[0m\u001b[1;33m\u001b[0m\u001b[1;33m\u001b[0m\u001b[0m\n\u001b[0;32m      4\u001b[0m \u001b[0mplt\u001b[0m\u001b[1;33m.\u001b[0m\u001b[0mshow\u001b[0m\u001b[1;33m(\u001b[0m\u001b[1;33m)\u001b[0m\u001b[1;33m\u001b[0m\u001b[1;33m\u001b[0m\u001b[0m\n",
      "\u001b[1;32m<ipython-input-15-246f3d217f27>\u001b[0m in \u001b[0;36mdeskew\u001b[1;34m(cvImage)\u001b[0m\n\u001b[0;32m     10\u001b[0m \u001b[1;31m# Deskew image\u001b[0m\u001b[1;33m\u001b[0m\u001b[1;33m\u001b[0m\u001b[1;33m\u001b[0m\u001b[0m\n\u001b[0;32m     11\u001b[0m \u001b[1;32mdef\u001b[0m \u001b[0mdeskew\u001b[0m\u001b[1;33m(\u001b[0m\u001b[0mcvImage\u001b[0m\u001b[1;33m)\u001b[0m\u001b[1;33m:\u001b[0m\u001b[1;33m\u001b[0m\u001b[1;33m\u001b[0m\u001b[0m\n\u001b[1;32m---> 12\u001b[1;33m     \u001b[0mangle\u001b[0m \u001b[1;33m=\u001b[0m \u001b[0mgetSkewAngle\u001b[0m\u001b[1;33m(\u001b[0m\u001b[0mcvImage\u001b[0m\u001b[1;33m)\u001b[0m\u001b[1;33m\u001b[0m\u001b[1;33m\u001b[0m\u001b[0m\n\u001b[0m\u001b[0;32m     13\u001b[0m     \u001b[1;32mreturn\u001b[0m \u001b[0mrotateImage\u001b[0m\u001b[1;33m(\u001b[0m\u001b[0mcvImage\u001b[0m\u001b[1;33m,\u001b[0m \u001b[1;33m-\u001b[0m\u001b[1;36m1.0\u001b[0m \u001b[1;33m*\u001b[0m \u001b[0mangle\u001b[0m\u001b[1;33m)\u001b[0m\u001b[1;33m\u001b[0m\u001b[1;33m\u001b[0m\u001b[0m\n",
      "\u001b[1;32m<ipython-input-14-263e33a75129>\u001b[0m in \u001b[0;36mgetSkewAngle\u001b[1;34m(cvImage)\u001b[0m\n\u001b[0;32m      1\u001b[0m \u001b[1;32mdef\u001b[0m \u001b[0mgetSkewAngle\u001b[0m\u001b[1;33m(\u001b[0m\u001b[0mcvImage\u001b[0m\u001b[1;33m)\u001b[0m\u001b[1;33m:\u001b[0m\u001b[1;33m\u001b[0m\u001b[1;33m\u001b[0m\u001b[0m\n\u001b[0;32m      2\u001b[0m     \u001b[0mnewImage\u001b[0m \u001b[1;33m=\u001b[0m \u001b[0mcvImage\u001b[0m\u001b[1;33m.\u001b[0m\u001b[0mcopy\u001b[0m\u001b[1;33m(\u001b[0m\u001b[1;33m)\u001b[0m\u001b[1;33m\u001b[0m\u001b[1;33m\u001b[0m\u001b[0m\n\u001b[1;32m----> 3\u001b[1;33m     \u001b[0mgray\u001b[0m \u001b[1;33m=\u001b[0m \u001b[0mcv2\u001b[0m\u001b[1;33m.\u001b[0m\u001b[0mcvtColor\u001b[0m\u001b[1;33m(\u001b[0m\u001b[0mnewImage\u001b[0m\u001b[1;33m,\u001b[0m \u001b[0mcv2\u001b[0m\u001b[1;33m.\u001b[0m\u001b[0mCOLOR_BGR2GRAY\u001b[0m\u001b[1;33m)\u001b[0m\u001b[1;33m\u001b[0m\u001b[1;33m\u001b[0m\u001b[0m\n\u001b[0m\u001b[0;32m      4\u001b[0m     \u001b[0mblur\u001b[0m \u001b[1;33m=\u001b[0m \u001b[0mcv2\u001b[0m\u001b[1;33m.\u001b[0m\u001b[0mGaussianBlur\u001b[0m\u001b[1;33m(\u001b[0m\u001b[0mgray\u001b[0m\u001b[1;33m,\u001b[0m \u001b[1;33m(\u001b[0m\u001b[1;36m9\u001b[0m\u001b[1;33m,\u001b[0m \u001b[1;36m9\u001b[0m\u001b[1;33m)\u001b[0m\u001b[1;33m,\u001b[0m \u001b[1;36m0\u001b[0m\u001b[1;33m)\u001b[0m\u001b[1;33m\u001b[0m\u001b[1;33m\u001b[0m\u001b[0m\n\u001b[0;32m      5\u001b[0m     \u001b[0mthresh\u001b[0m \u001b[1;33m=\u001b[0m \u001b[0mcv2\u001b[0m\u001b[1;33m.\u001b[0m\u001b[0mthreshold\u001b[0m\u001b[1;33m(\u001b[0m\u001b[0mblur\u001b[0m\u001b[1;33m,\u001b[0m \u001b[1;36m0\u001b[0m\u001b[1;33m,\u001b[0m \u001b[1;36m255\u001b[0m\u001b[1;33m,\u001b[0m \u001b[0mcv2\u001b[0m\u001b[1;33m.\u001b[0m\u001b[0mTHRESH_BINARY_INV\u001b[0m \u001b[1;33m+\u001b[0m \u001b[0mcv2\u001b[0m\u001b[1;33m.\u001b[0m\u001b[0mTHRESH_OTSU\u001b[0m\u001b[1;33m)\u001b[0m\u001b[1;33m[\u001b[0m\u001b[1;36m1\u001b[0m\u001b[1;33m]\u001b[0m\u001b[1;33m\u001b[0m\u001b[1;33m\u001b[0m\u001b[0m\n",
      "\u001b[1;31merror\u001b[0m: OpenCV(4.5.5) d:\\a\\opencv-python\\opencv-python\\opencv\\modules\\imgproc\\src\\color.simd_helpers.hpp:92: error: (-2:Unspecified error) in function '__cdecl cv::impl::`anonymous-namespace'::CvtHelper<struct cv::impl::`anonymous namespace'::Set<3,4,-1>,struct cv::impl::A0xa96199bf::Set<1,-1,-1>,struct cv::impl::A0xa96199bf::Set<0,2,5>,2>::CvtHelper(const class cv::_InputArray &,const class cv::_OutputArray &,int)'\n> Invalid number of channels in input image:\n>     'VScn::contains(scn)'\n> where\n>     'scn' is 1\n"
     ]
    }
   ],
   "source": [
    "img = cv2.imread('QuixoteRot.png')\n",
    "img2 = deskew(img)\n",
    "plt.imshow(img2)\n",
    "plt.show()"
   ]
  },
  {
   "cell_type": "code",
   "execution_count": 84,
   "metadata": {},
   "outputs": [
    {
     "name": "stdout",
     "output_type": "stream",
     "text": [
      "['A', 'las', 'tres', 'de', 'la', 'tarde', 'entró', 'doña', 'Manuela', 'en', 'la', 'plaza', 'del', 'Mercado,', 'envuelto', 'el', 'airoso', 'busto', 'en', 'un', 'abrigo', 'cuyos', 'faldones', 'casi', 'llegaban', 'al', 'borde', 'de', 'la', 'falda,', 'cuidadosamente', 'enguantada,', 'con', 'el', 'limosnero', 'al', 'puño', 'y', 'velado', 'el', 'rostro', 'por', 'la', 'tenue', 'blonda', 'de', 'la', 'mantilla,', 'Tras', 'ella,', 'formando', 'una', 'pareja', 'silenciosa,', 'marchaban', 'el', 'cochero', 'y', 'la', 'criada:', 'un', 'mocetón', 'de', 'rostro', 'carrilludo', 'y', 'afeitado', 'que', 'respiraba', 'brutal', 'jocosidad,', 'luciendo', 'con', 'tanta', 'satisfacción', 'como', 'embarazo', 'los', 'pesados', 'borceguíes,', 'el', 'terno', 'azul', 'con', 'vivos', 'rojos', 'y', 'botones', 'dorados', 'y', 'la', 'gorra', 'de', 'hule', 'de', 'ancho', 'plato,', 'y', 'a', 'su', 'lado', 'una', 'muchacha', 'morena', 'y', 'guapota,', 'con', 'peinado', 'de', 'rodete', 'y', 'agujas', 'de', 'perlas,', 'completando', 'este', 'tocado', 'de', 'la', 'huerta', 'su', 'traje', 'mixto,', 'en', 'el', 'que', 'se', 'mezclaban', 'los', 'adornos', 'de', 'la', 'ciudad', 'con', 'los', 'del', 'campo.', 'El', 'cochero,', 'con', 'una', 'enorme', 'cesta', 'en', 'la', 'mano', 'y', 'una', 'espuerta', 'no', 'menor', 'a', 'la', 'espalda,', 'tenía', 'la', 'expresión', 'resignada', 'y', 'pacienzuda', 'de', 'la', 'bestia', 'que', 'presiente', 'la', 'carga.', 'La', 'muchacha', 'también', 'llevaba', 'una', 'cesta', 'de', 'blanco', 'mimbre,', 'cuyas', 'tapas', 'movíanse', 'al', 'compás', 'de', 'la', 'marcha,', 'haciendo', 'que', 'el', 'inteTior', 'sonase', 'a', 'hueco;', 'pero', 'no', 'se', 'preocupaba', 'de', 'ella,', 'atenta', 'únicamente', 'a', 'mirar', 'con', 'ceño', 'a', 'los']\n"
     ]
    }
   ],
   "source": [
    "import pandas as pd\n",
    "from pytesseract import Output\n",
    "img = cv2.imread('ArrozYTartana/004.tif')\n",
    "text = pytesseract.image_to_data(img, config=custom_config, output_type=Output.DATAFRAME).dropna()\n",
    "#text['text'] = text['text'].lower()\n",
    "list = text[\"text\"].tolist()\n",
    "try:\n",
    "    while True:\n",
    "        list.remove('')\n",
    "except ValueError:\n",
    "    pass\n",
    "try:\n",
    "    while True:\n",
    "        list.remove(' ')\n",
    "except ValueError:\n",
    "    pass\n",
    "list.pop(-1)\n",
    "filterlist = []\n",
    "skip = []\n",
    "for i in range(len(list)):\n",
    "    if i in skip:\n",
    "        continue\n",
    "    if list[i].find(\"-\")!=-1:\n",
    "        if i+1>=len(list):\n",
    "            break\n",
    "        else:\n",
    "            filterlist.append(list[i].replace('-', '')+list[i+1])\n",
    "            skip.append(i+1)\n",
    "    else:\n",
    "        filterlist.append(list[i])\n",
    "print(filterlist)"
   ]
  },
  {
   "cell_type": "code",
   "execution_count": 85,
   "metadata": {},
   "outputs": [
    {
     "name": "stdout",
     "output_type": "stream",
     "text": [
      "205\n",
      "205\n"
     ]
    }
   ],
   "source": [
    "import re\n",
    "content = open(\"004.txt\", \"r\", encoding='utf-8').read()\n",
    "lecturatxt = re.split('\\s|\\n',content)\n",
    "try:\n",
    "    while True:\n",
    "        lecturatxt.remove('')\n",
    "except ValueError:\n",
    "    pass\n",
    "#lecturatxt.remove('')"
   ]
  },
  {
   "cell_type": "code",
   "execution_count": 75,
   "metadata": {},
   "outputs": [],
   "source": []
  },
  {
   "cell_type": "code",
   "execution_count": 86,
   "metadata": {},
   "outputs": [
    {
     "data": {
      "text/plain": [
       "0.9694656488549618"
      ]
     },
     "execution_count": 86,
     "metadata": {},
     "output_type": "execute_result"
    }
   ],
   "source": [
    "precision_score(lecturatxt, filterlist, average='macro')"
   ]
  },
  {
   "cell_type": "code",
   "execution_count": 105,
   "metadata": {},
   "outputs": [
    {
     "name": "stdout",
     "output_type": "stream",
     "text": [
      "<class 'str'>\n"
     ]
    }
   ],
   "source": [
    "content = open(\"004.txt\", \"r\", encoding='utf-8').read()\n",
    "print(type(content))"
   ]
  },
  {
   "cell_type": "code",
   "execution_count": 53,
   "metadata": {},
   "outputs": [
    {
     "name": "stdout",
     "output_type": "stream",
     "text": [
      "transeúntes demasiado curiosos O a pasear ojea-\n",
      "das hurañas de la señora al cochero o viceversa.\n",
      "\n",
      "Cuando, doblando la esquina, entraron los tres\n",
      "en la plaza del Mercado, doña Manuela se detuvo\n",
      "como desorientada.\n",
      "\n",
      "¡Gran Dios...! ¡cuánta gente! Valencia entera\n",
      "estaba allí. Todos los años ocurría lo mistno en el\n",
      "día de Nochebuena. Aquel mercado extraordina-\n",
      "rio, que se prolongaba hasta bien entrada la no-\n",
      "che, resultaba una festividad ruidosa, la explosión\n",
      "de alegría y bullicio de un pueblo que entre mon-\n",
      "tones de alimentos y aspirando el tufillo de las\n",
      "mil cosas que satisfacen la voracidad humana, re-\n",
      "gocijábase al pensar en los atracones del día si-\n",
      "guiente. En aquella plaza larga, ligeramente ar-\n",
      "queada y estrecha en sus extremos, como un in-\n",
      "testino hinchado, amontonábanse las nubes de ali-\n",
      "mentos que habían de desparramarse como nutri-\n",
      "tiva lluvia sobre las mesas, satisfaciendo la gigan-\n",
      "tesca gula de la Navidad, fiesta gastronómica, que\n",
      "es como el estómago del año.\n",
      "\n",
      "Doña Manuela permaneció inmóvil algunos mi-\n",
      "nutos en la bocacalle, Parecía mareada y confusa\n",
      "por el ruidoso oleaje de la multitud; pero en rea-\n",
      "lidad, lo que más la turbaba eran los pensamientos\n",
      "que acudían a su memoria. Conocía bien la plaza;\n",
      "había pasado en ella una parte de su juventud, y\n",
      "cuando de tarde en tarde iba al Mercado por ser\n",
      "víspera de festividad en que se encendían todos\n",
      "los hornillos de su cocina, experimentaba la im-\n",
      "presión del que tras un largo viaje por países ex-\n",
      "traños vuelve a su verdadera patria.\n",
      "\n",
      "¡Cómo estaba grabado en su memoria el as-\n",
      "pecto de la plaza! La veía cerrando los ojos y po-\n",
      "día ir describiéndola sin olvidar un solo detalle.\n",
      "\n",
      "Desde el lugar que ocupaba veía al frente la\n",
      "iglesia de los Santos Juanes, con su terraza de oxi-\n",
      "dadas barandillas, teniendo abajo, casi en los ci-\n",
      "mientos, las lóbregas y húmedas covachuelas dorr-\n",
      "de los hojalateros establecen sus tiendas desde fe-\n",
      "cha remota. Arriba, la fachada de piedra lisa, ama-\n",
      "rillenta, carcomida, con un retablo de gastada es-\n",
      "\n",
      "6\n",
      "\n",
      " \n",
      "\f",
      "\n"
     ]
    }
   ],
   "source": [
    "textos = pytesseract.image_to_string(cv2.imread('ArrozYTartana/005.tif'), config=custom_config)\n",
    "print(textos)"
   ]
  },
  {
   "cell_type": "code",
   "execution_count": 106,
   "metadata": {},
   "outputs": [
    {
     "name": "stdout",
     "output_type": "stream",
     "text": [
      "['transeúntes', 'demasiado', 'curiosos', 'O', 'a', 'pasear', 'ojea-', 'das', 'hurañas', 'de', 'la', 'señora', 'al', 'cochero', 'o', 'viceversa.', '', 'Cuando,', 'doblando', 'la', 'esquina,', 'entraron', 'los', 'tres', 'en', 'la', 'plaza', 'del', 'Mercado,', 'doña', 'Manuela', 'se', 'detuvo', 'como', 'desorientada.', '', '¡Gran', 'Dios...!', '¡cuánta', 'gente!', 'Valencia', 'entera', 'estaba', 'allí.', 'Todos', 'los', 'años', 'ocurría', 'lo', 'mistno', 'en', 'el', 'día', 'de', 'Nochebuena.', 'Aquel', 'mercado', 'extraordina-', 'rio,', 'que', 'se', 'prolongaba', 'hasta', 'bien', 'entrada', 'la', 'no-', 'che,', 'resultaba', 'una', 'festividad', 'ruidosa,', 'la', 'explosión', 'de', 'alegría', 'y', 'bullicio', 'de', 'un', 'pueblo', 'que', 'entre', 'mon-', 'tones', 'de', 'alimentos', 'y', 'aspirando', 'el', 'tufillo', 'de', 'las', 'mil', 'cosas', 'que', 'satisfacen', 'la', 'voracidad', 'humana,', 're-', 'gocijábase', 'al', 'pensar', 'en', 'los', 'atracones', 'del', 'día', 'si-', 'guiente.', 'En', 'aquella', 'plaza', 'larga,', 'ligeramente', 'ar-', 'queada', 'y', 'estrecha', 'en', 'sus', 'extremos,', 'como', 'un', 'in-', 'testino', 'hinchado,', 'amontonábanse', 'las', 'nubes', 'de', 'ali-', 'mentos', 'que', 'habían', 'de', 'desparramarse', 'como', 'nutri-', 'tiva', 'lluvia', 'sobre', 'las', 'mesas,', 'satisfaciendo', 'la', 'gigan-', 'tesca', 'gula', 'de', 'la', 'Navidad,', 'fiesta', 'gastronómica,', 'que', 'es', 'como', 'el', 'estómago', 'del', 'año.', '', 'Doña', 'Manuela', 'permaneció', 'inmóvil', 'algunos', 'mi-', 'nutos', 'en', 'la', 'bocacalle,', 'Parecía', 'mareada', 'y', 'confusa', 'por', 'el', 'ruidoso', 'oleaje', 'de', 'la', 'multitud;', 'pero', 'en', 'rea-', 'lidad,', 'lo', 'que', 'más', 'la', 'turbaba', 'eran', 'los', 'pensamientos', 'que', 'acudían', 'a', 'su', 'memoria.', 'Conocía', 'bien', 'la', 'plaza;', 'había', 'pasado', 'en', 'ella', 'una', 'parte', 'de', 'su', 'juventud,', 'y', 'cuando', 'de', 'tarde', 'en', 'tarde', 'iba', 'al', 'Mercado', 'por', 'ser', 'víspera', 'de', 'festividad', 'en', 'que', 'se', 'encendían', 'todos', 'los', 'hornillos', 'de', 'su', 'cocina,', 'experimentaba', 'la', 'im-', 'presión', 'del', 'que', 'tras', 'un', 'largo', 'viaje', 'por', 'países', 'ex-', 'traños', 'vuelve', 'a', 'su', 'verdadera', 'patria.', '', '¡Cómo', 'estaba', 'grabado', 'en', 'su', 'memoria', 'el', 'as-', 'pecto', 'de', 'la', 'plaza!', 'La', 'veía', 'cerrando', 'los', 'ojos', 'y', 'po-', 'día', 'ir', 'describiéndola', 'sin', 'olvidar', 'un', 'solo', 'detalle.', '', 'Desde', 'el', 'lugar', 'que', 'ocupaba', 'veía', 'al', 'frente', 'la', 'iglesia', 'de', 'los', 'Santos', 'Juanes,', 'con', 'su', 'terraza', 'de', 'oxi-', 'dadas', 'barandillas,', 'teniendo', 'abajo,', 'casi', 'en', 'los', 'ci-', 'mientos,', 'las', 'lóbregas', 'y', 'húmedas', 'covachuelas', 'dorr-', 'de', 'los', 'hojalateros', 'establecen', 'sus', 'tiendas', 'desde', 'fe-', 'cha', 'remota.', 'Arriba,', 'la', 'fachada', 'de', 'piedra', 'lisa,', 'ama-', 'rillenta,', 'carcomida,', 'con', 'un', 'retablo', 'de', 'gastada', 'es-', '', '6', '', '', '', '', '']\n"
     ]
    }
   ],
   "source": [
    "img = cv2.imread('ArrozYTartana/005.tif')\n",
    "textos = pytesseract.image_to_string(img, config=custom_config)\n",
    "sin = re.split('\\s|\\n',textos)\n",
    "print(sin)"
   ]
  },
  {
   "cell_type": "code",
   "execution_count": 70,
   "metadata": {},
   "outputs": [
    {
     "ename": "ValueError",
     "evalue": "list.remove(x): x not in list",
     "output_type": "error",
     "traceback": [
      "\u001b[1;31m---------------------------------------------------------------------------\u001b[0m",
      "\u001b[1;31mValueError\u001b[0m                                Traceback (most recent call last)",
      "\u001b[1;32m<ipython-input-70-dafa59972ab6>\u001b[0m in \u001b[0;36m<module>\u001b[1;34m\u001b[0m\n\u001b[0;32m      1\u001b[0m \u001b[0mlistaprueba\u001b[0m \u001b[1;33m=\u001b[0m \u001b[1;33m[\u001b[0m\u001b[1;34m'Fuck'\u001b[0m\u001b[1;33m,\u001b[0m \u001b[1;34m'you'\u001b[0m\u001b[1;33m,\u001b[0m  \u001b[1;34m'Python'\u001b[0m\u001b[1;33m]\u001b[0m\u001b[1;33m\u001b[0m\u001b[1;33m\u001b[0m\u001b[0m\n\u001b[1;32m----> 2\u001b[1;33m \u001b[0mprint\u001b[0m\u001b[1;33m(\u001b[0m\u001b[0mlistaprueba\u001b[0m\u001b[1;33m.\u001b[0m\u001b[0mremove\u001b[0m\u001b[1;33m(\u001b[0m\u001b[1;34m''\u001b[0m\u001b[1;33m)\u001b[0m\u001b[1;33m==\u001b[0m\u001b[1;34m'ValueError: list.remove(x): x not in list'\u001b[0m\u001b[1;33m)\u001b[0m\u001b[1;33m\u001b[0m\u001b[1;33m\u001b[0m\u001b[0m\n\u001b[0m",
      "\u001b[1;31mValueError\u001b[0m: list.remove(x): x not in list"
     ]
    }
   ],
   "source": [
    "listaprueba = ['Fuck', 'you',  'Python']\n",
    "print(listaprueba.remove('')=='ValueError: list.remove(x): x not in list')"
   ]
  },
  {
   "cell_type": "code",
   "execution_count": 17,
   "metadata": {},
   "outputs": [
    {
     "ename": "TypeError",
     "evalue": "Unsupported image object",
     "output_type": "error",
     "traceback": [
      "\u001b[1;31m---------------------------------------------------------------------------\u001b[0m",
      "\u001b[1;31mTypeError\u001b[0m                                 Traceback (most recent call last)",
      "\u001b[1;32m<ipython-input-17-eb9716e23f11>\u001b[0m in \u001b[0;36m<module>\u001b[1;34m\u001b[0m\n\u001b[0;32m      5\u001b[0m     \u001b[1;32mif\u001b[0m \u001b[0mfilename\u001b[0m\u001b[1;33m.\u001b[0m\u001b[0mendswith\u001b[0m\u001b[1;33m(\u001b[0m\u001b[1;34m\".tif\"\u001b[0m\u001b[1;33m)\u001b[0m\u001b[1;33m:\u001b[0m\u001b[1;33m\u001b[0m\u001b[1;33m\u001b[0m\u001b[0m\n\u001b[0;32m      6\u001b[0m         \u001b[0mprint\u001b[0m\u001b[1;33m(\u001b[0m\u001b[0mfilename\u001b[0m\u001b[1;33m.\u001b[0m\u001b[0mreplace\u001b[0m\u001b[1;33m(\u001b[0m\u001b[1;34m\".tif\"\u001b[0m\u001b[1;33m,\u001b[0m \u001b[1;34m\".txt\"\u001b[0m\u001b[1;33m)\u001b[0m\u001b[1;33m)\u001b[0m\u001b[1;33m\u001b[0m\u001b[1;33m\u001b[0m\u001b[0m\n\u001b[1;32m----> 7\u001b[1;33m     \u001b[0mlistafilt\u001b[0m \u001b[1;33m=\u001b[0m \u001b[0mlistafiltrada\u001b[0m\u001b[1;33m(\u001b[0m\u001b[0mfilename\u001b[0m\u001b[1;33m.\u001b[0m\u001b[0mreplace\u001b[0m\u001b[1;33m(\u001b[0m\u001b[1;34m\".tif\"\u001b[0m\u001b[1;33m,\u001b[0m \u001b[1;34m\".txt\"\u001b[0m\u001b[1;33m)\u001b[0m\u001b[1;33m)\u001b[0m\u001b[1;33m\u001b[0m\u001b[1;33m\u001b[0m\u001b[0m\n\u001b[0m\u001b[0;32m      8\u001b[0m     \u001b[0mtxtleido\u001b[0m \u001b[1;33m=\u001b[0m \u001b[0mleertxt\u001b[0m\u001b[1;33m(\u001b[0m\u001b[0mfilename\u001b[0m\u001b[1;33m)\u001b[0m\u001b[1;33m\u001b[0m\u001b[1;33m\u001b[0m\u001b[0m\n\u001b[0;32m      9\u001b[0m     \u001b[0mprint\u001b[0m\u001b[1;33m(\u001b[0m\u001b[0mlen\u001b[0m\u001b[1;33m(\u001b[0m\u001b[0mlistafilt\u001b[0m\u001b[1;33m)\u001b[0m\u001b[1;33m,\u001b[0m \u001b[0mlen\u001b[0m\u001b[1;33m(\u001b[0m\u001b[0mtxtleido\u001b[0m\u001b[1;33m)\u001b[0m\u001b[1;33m)\u001b[0m\u001b[1;33m\u001b[0m\u001b[1;33m\u001b[0m\u001b[0m\n",
      "\u001b[1;32m<ipython-input-14-e818c9103d76>\u001b[0m in \u001b[0;36mlistafiltrada\u001b[1;34m(archivoimagen)\u001b[0m\n\u001b[0;32m     61\u001b[0m \u001b[1;32mdef\u001b[0m \u001b[0mlistafiltrada\u001b[0m\u001b[1;33m(\u001b[0m\u001b[0marchivoimagen\u001b[0m\u001b[1;33m)\u001b[0m\u001b[1;33m:\u001b[0m\u001b[1;33m\u001b[0m\u001b[1;33m\u001b[0m\u001b[0m\n\u001b[0;32m     62\u001b[0m     \u001b[0mimg\u001b[0m \u001b[1;33m=\u001b[0m \u001b[0mcv2\u001b[0m\u001b[1;33m.\u001b[0m\u001b[0mimread\u001b[0m\u001b[1;33m(\u001b[0m\u001b[0marchivoimagen\u001b[0m\u001b[1;33m)\u001b[0m\u001b[1;33m\u001b[0m\u001b[1;33m\u001b[0m\u001b[0m\n\u001b[1;32m---> 63\u001b[1;33m     \u001b[0mtext\u001b[0m \u001b[1;33m=\u001b[0m \u001b[0mpytesseract\u001b[0m\u001b[1;33m.\u001b[0m\u001b[0mimage_to_data\u001b[0m\u001b[1;33m(\u001b[0m\u001b[0mimg\u001b[0m\u001b[1;33m,\u001b[0m \u001b[0mconfig\u001b[0m\u001b[1;33m=\u001b[0m\u001b[0mcustom_config\u001b[0m\u001b[1;33m,\u001b[0m \u001b[0moutput_type\u001b[0m\u001b[1;33m=\u001b[0m\u001b[0mOutput\u001b[0m\u001b[1;33m.\u001b[0m\u001b[0mDATAFRAME\u001b[0m\u001b[1;33m)\u001b[0m\u001b[1;33m.\u001b[0m\u001b[0mdropna\u001b[0m\u001b[1;33m(\u001b[0m\u001b[1;33m)\u001b[0m\u001b[1;33m\u001b[0m\u001b[1;33m\u001b[0m\u001b[0m\n\u001b[0m\u001b[0;32m     64\u001b[0m     \u001b[1;31m#text['text'] = text['text'].lower()\u001b[0m\u001b[1;33m\u001b[0m\u001b[1;33m\u001b[0m\u001b[1;33m\u001b[0m\u001b[0m\n\u001b[0;32m     65\u001b[0m     \u001b[0mlist\u001b[0m \u001b[1;33m=\u001b[0m \u001b[0mtext\u001b[0m\u001b[1;33m[\u001b[0m\u001b[1;34m\"text\"\u001b[0m\u001b[1;33m]\u001b[0m\u001b[1;33m.\u001b[0m\u001b[0mtolist\u001b[0m\u001b[1;33m(\u001b[0m\u001b[1;33m)\u001b[0m\u001b[1;33m\u001b[0m\u001b[1;33m\u001b[0m\u001b[0m\n",
      "\u001b[1;32mD:\\Program Files\\Anaconda\\lib\\site-packages\\pytesseract\\pytesseract.py\u001b[0m in \u001b[0;36mimage_to_data\u001b[1;34m(image, lang, config, nice, output_type, timeout, pandas_config)\u001b[0m\n\u001b[0;32m    515\u001b[0m     \u001b[0margs\u001b[0m \u001b[1;33m=\u001b[0m \u001b[1;33m[\u001b[0m\u001b[0mimage\u001b[0m\u001b[1;33m,\u001b[0m \u001b[1;34m'tsv'\u001b[0m\u001b[1;33m,\u001b[0m \u001b[0mlang\u001b[0m\u001b[1;33m,\u001b[0m \u001b[0mconfig\u001b[0m\u001b[1;33m,\u001b[0m \u001b[0mnice\u001b[0m\u001b[1;33m,\u001b[0m \u001b[0mtimeout\u001b[0m\u001b[1;33m]\u001b[0m\u001b[1;33m\u001b[0m\u001b[1;33m\u001b[0m\u001b[0m\n\u001b[0;32m    516\u001b[0m \u001b[1;33m\u001b[0m\u001b[0m\n\u001b[1;32m--> 517\u001b[1;33m     return {\n\u001b[0m\u001b[0;32m    518\u001b[0m         \u001b[0mOutput\u001b[0m\u001b[1;33m.\u001b[0m\u001b[0mBYTES\u001b[0m\u001b[1;33m:\u001b[0m \u001b[1;32mlambda\u001b[0m\u001b[1;33m:\u001b[0m \u001b[0mrun_and_get_output\u001b[0m\u001b[1;33m(\u001b[0m\u001b[1;33m*\u001b[0m\u001b[1;33m(\u001b[0m\u001b[0margs\u001b[0m \u001b[1;33m+\u001b[0m \u001b[1;33m[\u001b[0m\u001b[1;32mTrue\u001b[0m\u001b[1;33m]\u001b[0m\u001b[1;33m)\u001b[0m\u001b[1;33m)\u001b[0m\u001b[1;33m,\u001b[0m\u001b[1;33m\u001b[0m\u001b[1;33m\u001b[0m\u001b[0m\n\u001b[0;32m    519\u001b[0m         Output.DATAFRAME: lambda: get_pandas_output(\n",
      "\u001b[1;32mD:\\Program Files\\Anaconda\\lib\\site-packages\\pytesseract\\pytesseract.py\u001b[0m in \u001b[0;36m<lambda>\u001b[1;34m()\u001b[0m\n\u001b[0;32m    517\u001b[0m     return {\n\u001b[0;32m    518\u001b[0m         \u001b[0mOutput\u001b[0m\u001b[1;33m.\u001b[0m\u001b[0mBYTES\u001b[0m\u001b[1;33m:\u001b[0m \u001b[1;32mlambda\u001b[0m\u001b[1;33m:\u001b[0m \u001b[0mrun_and_get_output\u001b[0m\u001b[1;33m(\u001b[0m\u001b[1;33m*\u001b[0m\u001b[1;33m(\u001b[0m\u001b[0margs\u001b[0m \u001b[1;33m+\u001b[0m \u001b[1;33m[\u001b[0m\u001b[1;32mTrue\u001b[0m\u001b[1;33m]\u001b[0m\u001b[1;33m)\u001b[0m\u001b[1;33m)\u001b[0m\u001b[1;33m,\u001b[0m\u001b[1;33m\u001b[0m\u001b[1;33m\u001b[0m\u001b[0m\n\u001b[1;32m--> 519\u001b[1;33m         Output.DATAFRAME: lambda: get_pandas_output(\n\u001b[0m\u001b[0;32m    520\u001b[0m             \u001b[0margs\u001b[0m \u001b[1;33m+\u001b[0m \u001b[1;33m[\u001b[0m\u001b[1;32mTrue\u001b[0m\u001b[1;33m]\u001b[0m\u001b[1;33m,\u001b[0m\u001b[1;33m\u001b[0m\u001b[1;33m\u001b[0m\u001b[0m\n\u001b[0;32m    521\u001b[0m             \u001b[0mpandas_config\u001b[0m\u001b[1;33m,\u001b[0m\u001b[1;33m\u001b[0m\u001b[1;33m\u001b[0m\u001b[0m\n",
      "\u001b[1;32mD:\\Program Files\\Anaconda\\lib\\site-packages\\pytesseract\\pytesseract.py\u001b[0m in \u001b[0;36mget_pandas_output\u001b[1;34m(args, config)\u001b[0m\n\u001b[0;32m    492\u001b[0m         \u001b[1;32mpass\u001b[0m\u001b[1;33m\u001b[0m\u001b[1;33m\u001b[0m\u001b[0m\n\u001b[0;32m    493\u001b[0m \u001b[1;33m\u001b[0m\u001b[0m\n\u001b[1;32m--> 494\u001b[1;33m     \u001b[1;32mreturn\u001b[0m \u001b[0mpd\u001b[0m\u001b[1;33m.\u001b[0m\u001b[0mread_csv\u001b[0m\u001b[1;33m(\u001b[0m\u001b[0mBytesIO\u001b[0m\u001b[1;33m(\u001b[0m\u001b[0mrun_and_get_output\u001b[0m\u001b[1;33m(\u001b[0m\u001b[1;33m*\u001b[0m\u001b[0margs\u001b[0m\u001b[1;33m)\u001b[0m\u001b[1;33m)\u001b[0m\u001b[1;33m,\u001b[0m \u001b[1;33m**\u001b[0m\u001b[0mkwargs\u001b[0m\u001b[1;33m)\u001b[0m\u001b[1;33m\u001b[0m\u001b[1;33m\u001b[0m\u001b[0m\n\u001b[0m\u001b[0;32m    495\u001b[0m \u001b[1;33m\u001b[0m\u001b[0m\n\u001b[0;32m    496\u001b[0m \u001b[1;33m\u001b[0m\u001b[0m\n",
      "\u001b[1;32mD:\\Program Files\\Anaconda\\lib\\site-packages\\pytesseract\\pytesseract.py\u001b[0m in \u001b[0;36mrun_and_get_output\u001b[1;34m(image, extension, lang, config, nice, timeout, return_bytes)\u001b[0m\n\u001b[0;32m    271\u001b[0m ):\n\u001b[0;32m    272\u001b[0m \u001b[1;33m\u001b[0m\u001b[0m\n\u001b[1;32m--> 273\u001b[1;33m     \u001b[1;32mwith\u001b[0m \u001b[0msave\u001b[0m\u001b[1;33m(\u001b[0m\u001b[0mimage\u001b[0m\u001b[1;33m)\u001b[0m \u001b[1;32mas\u001b[0m \u001b[1;33m(\u001b[0m\u001b[0mtemp_name\u001b[0m\u001b[1;33m,\u001b[0m \u001b[0minput_filename\u001b[0m\u001b[1;33m)\u001b[0m\u001b[1;33m:\u001b[0m\u001b[1;33m\u001b[0m\u001b[1;33m\u001b[0m\u001b[0m\n\u001b[0m\u001b[0;32m    274\u001b[0m         kwargs = {\n\u001b[0;32m    275\u001b[0m             \u001b[1;34m'input_filename'\u001b[0m\u001b[1;33m:\u001b[0m \u001b[0minput_filename\u001b[0m\u001b[1;33m,\u001b[0m\u001b[1;33m\u001b[0m\u001b[1;33m\u001b[0m\u001b[0m\n",
      "\u001b[1;32mD:\\Program Files\\Anaconda\\lib\\contextlib.py\u001b[0m in \u001b[0;36m__enter__\u001b[1;34m(self)\u001b[0m\n\u001b[0;32m    111\u001b[0m         \u001b[1;32mdel\u001b[0m \u001b[0mself\u001b[0m\u001b[1;33m.\u001b[0m\u001b[0margs\u001b[0m\u001b[1;33m,\u001b[0m \u001b[0mself\u001b[0m\u001b[1;33m.\u001b[0m\u001b[0mkwds\u001b[0m\u001b[1;33m,\u001b[0m \u001b[0mself\u001b[0m\u001b[1;33m.\u001b[0m\u001b[0mfunc\u001b[0m\u001b[1;33m\u001b[0m\u001b[1;33m\u001b[0m\u001b[0m\n\u001b[0;32m    112\u001b[0m         \u001b[1;32mtry\u001b[0m\u001b[1;33m:\u001b[0m\u001b[1;33m\u001b[0m\u001b[1;33m\u001b[0m\u001b[0m\n\u001b[1;32m--> 113\u001b[1;33m             \u001b[1;32mreturn\u001b[0m \u001b[0mnext\u001b[0m\u001b[1;33m(\u001b[0m\u001b[0mself\u001b[0m\u001b[1;33m.\u001b[0m\u001b[0mgen\u001b[0m\u001b[1;33m)\u001b[0m\u001b[1;33m\u001b[0m\u001b[1;33m\u001b[0m\u001b[0m\n\u001b[0m\u001b[0;32m    114\u001b[0m         \u001b[1;32mexcept\u001b[0m \u001b[0mStopIteration\u001b[0m\u001b[1;33m:\u001b[0m\u001b[1;33m\u001b[0m\u001b[1;33m\u001b[0m\u001b[0m\n\u001b[0;32m    115\u001b[0m             \u001b[1;32mraise\u001b[0m \u001b[0mRuntimeError\u001b[0m\u001b[1;33m(\u001b[0m\u001b[1;34m\"generator didn't yield\"\u001b[0m\u001b[1;33m)\u001b[0m \u001b[1;32mfrom\u001b[0m \u001b[1;32mNone\u001b[0m\u001b[1;33m\u001b[0m\u001b[1;33m\u001b[0m\u001b[0m\n",
      "\u001b[1;32mD:\\Program Files\\Anaconda\\lib\\site-packages\\pytesseract\\pytesseract.py\u001b[0m in \u001b[0;36msave\u001b[1;34m(image)\u001b[0m\n\u001b[0;32m    192\u001b[0m                 \u001b[1;32myield\u001b[0m \u001b[0mf\u001b[0m\u001b[1;33m.\u001b[0m\u001b[0mname\u001b[0m\u001b[1;33m,\u001b[0m \u001b[0mrealpath\u001b[0m\u001b[1;33m(\u001b[0m\u001b[0mnormpath\u001b[0m\u001b[1;33m(\u001b[0m\u001b[0mnormcase\u001b[0m\u001b[1;33m(\u001b[0m\u001b[0mimage\u001b[0m\u001b[1;33m)\u001b[0m\u001b[1;33m)\u001b[0m\u001b[1;33m)\u001b[0m\u001b[1;33m\u001b[0m\u001b[1;33m\u001b[0m\u001b[0m\n\u001b[0;32m    193\u001b[0m                 \u001b[1;32mreturn\u001b[0m\u001b[1;33m\u001b[0m\u001b[1;33m\u001b[0m\u001b[0m\n\u001b[1;32m--> 194\u001b[1;33m             \u001b[0mimage\u001b[0m\u001b[1;33m,\u001b[0m \u001b[0mextension\u001b[0m \u001b[1;33m=\u001b[0m \u001b[0mprepare\u001b[0m\u001b[1;33m(\u001b[0m\u001b[0mimage\u001b[0m\u001b[1;33m)\u001b[0m\u001b[1;33m\u001b[0m\u001b[1;33m\u001b[0m\u001b[0m\n\u001b[0m\u001b[0;32m    195\u001b[0m             \u001b[0minput_file_name\u001b[0m \u001b[1;33m=\u001b[0m \u001b[0mf\u001b[0m\u001b[1;33m.\u001b[0m\u001b[0mname\u001b[0m \u001b[1;33m+\u001b[0m \u001b[0mextsep\u001b[0m \u001b[1;33m+\u001b[0m \u001b[0mextension\u001b[0m\u001b[1;33m\u001b[0m\u001b[1;33m\u001b[0m\u001b[0m\n\u001b[0;32m    196\u001b[0m             \u001b[0mimage\u001b[0m\u001b[1;33m.\u001b[0m\u001b[0msave\u001b[0m\u001b[1;33m(\u001b[0m\u001b[0minput_file_name\u001b[0m\u001b[1;33m,\u001b[0m \u001b[0mformat\u001b[0m\u001b[1;33m=\u001b[0m\u001b[0mimage\u001b[0m\u001b[1;33m.\u001b[0m\u001b[0mformat\u001b[0m\u001b[1;33m)\u001b[0m\u001b[1;33m\u001b[0m\u001b[1;33m\u001b[0m\u001b[0m\n",
      "\u001b[1;32mD:\\Program Files\\Anaconda\\lib\\site-packages\\pytesseract\\pytesseract.py\u001b[0m in \u001b[0;36mprepare\u001b[1;34m(image)\u001b[0m\n\u001b[0;32m    169\u001b[0m \u001b[1;33m\u001b[0m\u001b[0m\n\u001b[0;32m    170\u001b[0m     \u001b[1;32mif\u001b[0m \u001b[1;32mnot\u001b[0m \u001b[0misinstance\u001b[0m\u001b[1;33m(\u001b[0m\u001b[0mimage\u001b[0m\u001b[1;33m,\u001b[0m \u001b[0mImage\u001b[0m\u001b[1;33m.\u001b[0m\u001b[0mImage\u001b[0m\u001b[1;33m)\u001b[0m\u001b[1;33m:\u001b[0m\u001b[1;33m\u001b[0m\u001b[1;33m\u001b[0m\u001b[0m\n\u001b[1;32m--> 171\u001b[1;33m         \u001b[1;32mraise\u001b[0m \u001b[0mTypeError\u001b[0m\u001b[1;33m(\u001b[0m\u001b[1;34m'Unsupported image object'\u001b[0m\u001b[1;33m)\u001b[0m\u001b[1;33m\u001b[0m\u001b[1;33m\u001b[0m\u001b[0m\n\u001b[0m\u001b[0;32m    172\u001b[0m \u001b[1;33m\u001b[0m\u001b[0m\n\u001b[0;32m    173\u001b[0m     \u001b[0mextension\u001b[0m \u001b[1;33m=\u001b[0m \u001b[1;34m'PNG'\u001b[0m \u001b[1;32mif\u001b[0m \u001b[1;32mnot\u001b[0m \u001b[0mimage\u001b[0m\u001b[1;33m.\u001b[0m\u001b[0mformat\u001b[0m \u001b[1;32melse\u001b[0m \u001b[0mimage\u001b[0m\u001b[1;33m.\u001b[0m\u001b[0mformat\u001b[0m\u001b[1;33m\u001b[0m\u001b[1;33m\u001b[0m\u001b[0m\n",
      "\u001b[1;31mTypeError\u001b[0m: Unsupported image object"
     ]
    }
   ],
   "source": [
    "import os\n",
    "directory = 'C:/Users/alons/Desktop/Universidad/Universidad21.22/TFG/Vision/ArrozYTartana'\n",
    "\n",
    "for filename in os.listdir(directory):\n",
    "    if filename.endswith(\".tif\"):\n",
    "        print(filename.replace(\".tif\", \".txt\"))\n",
    "    listafilt = listafiltrada(filename.replace(\".tif\", \".txt\"))\n",
    "    txtleido = leertxt(filename)\n",
    "    print(len(listafilt), len(txtleido))"
   ]
  },
  {
   "cell_type": "code",
   "execution_count": null,
   "metadata": {},
   "outputs": [],
   "source": []
  }
 ],
 "metadata": {
  "kernelspec": {
   "display_name": "Python 3",
   "language": "python",
   "name": "python3"
  },
  "language_info": {
   "codemirror_mode": {
    "name": "ipython",
    "version": 3
   },
   "file_extension": ".py",
   "mimetype": "text/x-python",
   "name": "python",
   "nbconvert_exporter": "python",
   "pygments_lexer": "ipython3",
   "version": "3.8.3"
  }
 },
 "nbformat": 4,
 "nbformat_minor": 4
}
